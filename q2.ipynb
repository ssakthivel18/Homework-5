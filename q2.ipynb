{
  "nbformat": 4,
  "nbformat_minor": 0,
  "metadata": {
    "colab": {
      "provenance": []
    },
    "kernelspec": {
      "name": "python3",
      "display_name": "Python 3"
    },
    "language_info": {
      "name": "python"
    }
  },
  "cells": [
    {
      "cell_type": "markdown",
      "source": [
        "# Homework 5 Q2\n",
        "\n",
        "Up to this point, we have created our own models and practiced implementing existing machine learning techniques and derivations. It is now time to move on to more recent advancements of machine learning–Deep Learning. In this homework, I will demonstrate how PyTorch can be used and some common and useful functionalities. In the end, you will be required to create your own model that will be trained on a dataset."
      ],
      "metadata": {
        "id": "grF7sAQBffrg"
      }
    },
    {
      "cell_type": "markdown",
      "source": [
        "## PyTorch Tensors\n",
        "\n",
        "We have made you practice NumPy extensively over the past few weeks: to understand the functions, the dimensions, and the axes. In PyTorch, the package doesn't like to work with NumPy objects. Instead, it works with its own version of NumPy called Torch.Tensors. Torch.Tensor is extremely similar to NumPy and we will show it here.\n",
        "\n",
        "Let's make a random matrix to play with."
      ],
      "metadata": {
        "id": "7MxDWa8ZgJjh"
      }
    },
    {
      "cell_type": "code",
      "execution_count": null,
      "metadata": {
        "id": "yAurHyHnfdk6",
        "colab": {
          "base_uri": "https://localhost:8080/"
        },
        "outputId": "a17f0038-9d70-44e0-b3f6-b2b17196c6cd"
      },
      "outputs": [
        {
          "output_type": "execute_result",
          "data": {
            "text/plain": [
              "tensor([[0.0422, 0.0448, 0.8948, 0.7902, 0.2559, 0.3570, 0.1892, 0.2870],\n",
              "        [0.3642, 0.2277, 0.0925, 0.9121, 0.0974, 0.3724, 0.4538, 0.2913],\n",
              "        [0.2890, 0.3376, 0.0557, 0.7527, 0.8600, 0.5199, 0.6920, 0.8246],\n",
              "        [0.1891, 0.5215, 0.7627, 0.8192, 0.3516, 0.9030, 0.8953, 0.7095],\n",
              "        [0.6324, 0.4177, 0.2659, 0.8095, 0.6406, 0.9730, 0.4028, 0.5828]])"
            ]
          },
          "metadata": {},
          "execution_count": 3
        }
      ],
      "source": [
        "import torch\n",
        "import numpy as np\n",
        "\n",
        "X = torch.rand(5, 8)\n",
        "X"
      ]
    },
    {
      "cell_type": "markdown",
      "source": [
        "We can easily create the NumPy object of the same tensor using the `.numpy()` method.\n",
        "\n"
      ],
      "metadata": {
        "id": "5_fl1IKxiAk1"
      }
    },
    {
      "cell_type": "code",
      "source": [
        "X_np = X.numpy()    # create a NumPy version of X\n",
        "print(X_np)\n",
        "print(type(X_np))"
      ],
      "metadata": {
        "id": "HI0TkbDMhgWS",
        "colab": {
          "base_uri": "https://localhost:8080/"
        },
        "outputId": "58e4e7a5-f6bb-4c4a-9445-02dc5ff4539f"
      },
      "execution_count": null,
      "outputs": [
        {
          "output_type": "stream",
          "name": "stdout",
          "text": [
            "[[0.04216897 0.04484457 0.8947944  0.7902157  0.25587273 0.35703415\n",
            "  0.1892227  0.2870341 ]\n",
            " [0.36416262 0.22771466 0.0924536  0.9121479  0.09740376 0.37237638\n",
            "  0.45384204 0.29127425]\n",
            " [0.28895253 0.33761644 0.0556671  0.75266033 0.8600203  0.51992685\n",
            "  0.69197494 0.824573  ]\n",
            " [0.18909848 0.52148306 0.76270735 0.8191613  0.35158575 0.90295446\n",
            "  0.8953154  0.70945597]\n",
            " [0.6323851  0.4176823  0.26591235 0.80947334 0.6405663  0.9730065\n",
            "  0.4028052  0.58283186]]\n",
            "<class 'numpy.ndarray'>\n"
          ]
        }
      ]
    },
    {
      "cell_type": "markdown",
      "source": [
        "And change it back to Torch.Tensor by wrapping it around with torch.tensor()."
      ],
      "metadata": {
        "id": "ALcdk3BAiU3k"
      }
    },
    {
      "cell_type": "code",
      "source": [
        "X = torch.tensor(X_np)\n",
        "print(X)\n",
        "print(\"Shape:\\t\", X.shape)\n",
        "print(\"X.shape is still represented by a tuple:\\t\", X.shape == (5, 8))\n",
        "print(\"Type:\\t\", type(X))"
      ],
      "metadata": {
        "id": "RX3ob7vRgu6s",
        "colab": {
          "base_uri": "https://localhost:8080/"
        },
        "outputId": "3714a1bd-628b-4c8d-c7f3-584454561839"
      },
      "execution_count": null,
      "outputs": [
        {
          "output_type": "stream",
          "name": "stdout",
          "text": [
            "tensor([[0.0422, 0.0448, 0.8948, 0.7902, 0.2559, 0.3570, 0.1892, 0.2870],\n",
            "        [0.3642, 0.2277, 0.0925, 0.9121, 0.0974, 0.3724, 0.4538, 0.2913],\n",
            "        [0.2890, 0.3376, 0.0557, 0.7527, 0.8600, 0.5199, 0.6920, 0.8246],\n",
            "        [0.1891, 0.5215, 0.7627, 0.8192, 0.3516, 0.9030, 0.8953, 0.7095],\n",
            "        [0.6324, 0.4177, 0.2659, 0.8095, 0.6406, 0.9730, 0.4028, 0.5828]])\n",
            "Shape:\t torch.Size([5, 8])\n",
            "X.shape is still represented by a tuple:\t True\n",
            "Type:\t <class 'torch.Tensor'>\n"
          ]
        }
      ]
    },
    {
      "cell_type": "markdown",
      "source": [
        "Slicing works the same as NumPy as well."
      ],
      "metadata": {
        "id": "HHzGObF8hMYt"
      }
    },
    {
      "cell_type": "code",
      "source": [
        "print(X[1:3, 2:5])      # certain section of the matrix\n",
        "print(X[[0, 2, 4], :])  # row 0, 2, and 4"
      ],
      "metadata": {
        "id": "0Ika9wZIg7Rf",
        "colab": {
          "base_uri": "https://localhost:8080/"
        },
        "outputId": "28cbf552-1293-484c-dee7-09e81cb7cb2d"
      },
      "execution_count": null,
      "outputs": [
        {
          "output_type": "stream",
          "name": "stdout",
          "text": [
            "tensor([[0.0925, 0.9121, 0.0974],\n",
            "        [0.0557, 0.7527, 0.8600]])\n",
            "tensor([[0.0422, 0.0448, 0.8948, 0.7902, 0.2559, 0.3570, 0.1892, 0.2870],\n",
            "        [0.2890, 0.3376, 0.0557, 0.7527, 0.8600, 0.5199, 0.6920, 0.8246],\n",
            "        [0.6324, 0.4177, 0.2659, 0.8095, 0.6406, 0.9730, 0.4028, 0.5828]])\n"
          ]
        }
      ]
    },
    {
      "cell_type": "markdown",
      "source": [
        "Boolean slicing works the same as NumPy as well."
      ],
      "metadata": {
        "id": "cgvrUbLKiuF6"
      }
    },
    {
      "cell_type": "code",
      "source": [
        "bool_idx = X < 0.5\n",
        "print(bool_idx)\n",
        "X_bool_filter = torch.clone(X)  # torch.clone() can help us deep copy a matrix so we don't accidentally modify the original copy\n",
        "X_bool_filter[bool_idx] = 99    # using the boolean slicing, we change the values less than 0.5 to 99\n",
        "print(torch.round(X_bool_filter, decimals=4))\n",
        "print(X)                        # notice how the original tensor is unchanged, that's why torch.clone() is important"
      ],
      "metadata": {
        "id": "R3t9qJexixaZ",
        "colab": {
          "base_uri": "https://localhost:8080/"
        },
        "outputId": "0d10a36e-f728-4080-b3ad-1b01127a7bb7"
      },
      "execution_count": null,
      "outputs": [
        {
          "output_type": "stream",
          "name": "stdout",
          "text": [
            "tensor([[ True,  True, False, False,  True,  True,  True,  True],\n",
            "        [ True,  True,  True, False,  True,  True,  True,  True],\n",
            "        [ True,  True,  True, False, False, False, False, False],\n",
            "        [ True, False, False, False,  True, False, False, False],\n",
            "        [False,  True,  True, False, False, False,  True, False]])\n",
            "tensor([[99.0000, 99.0000,  0.8948,  0.7902, 99.0000, 99.0000, 99.0000, 99.0000],\n",
            "        [99.0000, 99.0000, 99.0000,  0.9121, 99.0000, 99.0000, 99.0000, 99.0000],\n",
            "        [99.0000, 99.0000, 99.0000,  0.7527,  0.8600,  0.5199,  0.6920,  0.8246],\n",
            "        [99.0000,  0.5215,  0.7627,  0.8192, 99.0000,  0.9030,  0.8953,  0.7095],\n",
            "        [ 0.6324, 99.0000, 99.0000,  0.8095,  0.6406,  0.9730, 99.0000,  0.5828]])\n",
            "tensor([[0.0422, 0.0448, 0.8948, 0.7902, 0.2559, 0.3570, 0.1892, 0.2870],\n",
            "        [0.3642, 0.2277, 0.0925, 0.9121, 0.0974, 0.3724, 0.4538, 0.2913],\n",
            "        [0.2890, 0.3376, 0.0557, 0.7527, 0.8600, 0.5199, 0.6920, 0.8246],\n",
            "        [0.1891, 0.5215, 0.7627, 0.8192, 0.3516, 0.9030, 0.8953, 0.7095],\n",
            "        [0.6324, 0.4177, 0.2659, 0.8095, 0.6406, 0.9730, 0.4028, 0.5828]])\n"
          ]
        }
      ]
    },
    {
      "cell_type": "markdown",
      "source": [
        "Of course, we have our favorite mean, var, and std functions.\n",
        "Now, the only difference between tensors and NumPy is that tensors use the keyword **dim** in place of NumPy's **axis**, like so."
      ],
      "metadata": {
        "id": "s2njEG_3hhRM"
      }
    },
    {
      "cell_type": "code",
      "source": [
        "print(torch.mean(X))\n",
        "print(torch.var(X))\n",
        "print(torch.std(X))"
      ],
      "metadata": {
        "id": "qfvKMNDfheLP",
        "colab": {
          "base_uri": "https://localhost:8080/"
        },
        "outputId": "055a33c9-547e-4576-9a61-f886c909e83c"
      },
      "execution_count": null,
      "outputs": [
        {
          "output_type": "stream",
          "name": "stdout",
          "text": [
            "tensor(0.4970)\n",
            "tensor(0.0826)\n",
            "tensor(0.2875)\n"
          ]
        }
      ]
    },
    {
      "cell_type": "code",
      "source": [
        "print(torch.mean(X, dim=0))\n",
        "print(torch.var(X, dim=0))\n",
        "print(torch.std(X, dim=0))"
      ],
      "metadata": {
        "id": "ZA3m8JfRigLm",
        "colab": {
          "base_uri": "https://localhost:8080/"
        },
        "outputId": "e8965341-04a0-45fc-961d-911ab292808d"
      },
      "execution_count": null,
      "outputs": [
        {
          "output_type": "stream",
          "name": "stdout",
          "text": [
            "tensor([0.3034, 0.3099, 0.4143, 0.8167, 0.4411, 0.6251, 0.5266, 0.5390])\n",
            "tensor([0.0484, 0.0335, 0.1516, 0.0035, 0.0939, 0.0863, 0.0744, 0.0593])\n",
            "tensor([0.2199, 0.1831, 0.3894, 0.0591, 0.3065, 0.2937, 0.2728, 0.2436])\n"
          ]
        }
      ]
    },
    {
      "cell_type": "markdown",
      "source": [
        "Some linear algebra operations:\n"
      ],
      "metadata": {
        "id": "NFSSgDexlFHK"
      }
    },
    {
      "cell_type": "code",
      "source": [
        "Z = torch.rand(8, 3)\n",
        "# dot product - two ways of doing so (NumPy also takes @ for dot products)\n",
        "print(X @ Z)\n",
        "print(torch.matmul(X, Z))\n",
        "print(torch.einsum(\"ij,jk->ik\", [X, Z]))    # this is torch.einsum - not important for this class but a cool function regardless\n",
        "print((X @ Z).shape)"
      ],
      "metadata": {
        "id": "ACdPdLRtikn_",
        "colab": {
          "base_uri": "https://localhost:8080/"
        },
        "outputId": "bc0f6de3-5fd1-4f4f-b12e-2d895654e98c"
      },
      "execution_count": null,
      "outputs": [
        {
          "output_type": "stream",
          "name": "stdout",
          "text": [
            "tensor([[1.5890, 1.8550, 1.5315],\n",
            "        [1.5012, 1.2931, 1.6021],\n",
            "        [1.9214, 2.3740, 2.7628],\n",
            "        [2.4296, 2.7169, 2.6514],\n",
            "        [2.2293, 2.7036, 2.4991]])\n",
            "tensor([[1.5890, 1.8550, 1.5315],\n",
            "        [1.5012, 1.2931, 1.6021],\n",
            "        [1.9214, 2.3740, 2.7628],\n",
            "        [2.4296, 2.7169, 2.6514],\n",
            "        [2.2293, 2.7036, 2.4991]])\n",
            "tensor([[1.5890, 1.8550, 1.5315],\n",
            "        [1.5012, 1.2931, 1.6021],\n",
            "        [1.9214, 2.3740, 2.7628],\n",
            "        [2.4296, 2.7169, 2.6514],\n",
            "        [2.2293, 2.7036, 2.4991]])\n",
            "torch.Size([5, 3])\n"
          ]
        }
      ]
    },
    {
      "cell_type": "markdown",
      "source": [
        "Calculate eigenvectors and eigenvalues with PyTorch!"
      ],
      "metadata": {
        "id": "-KMI-BxVmabm"
      }
    },
    {
      "cell_type": "code",
      "source": [
        "X = torch.rand(4, 4)\n",
        "print(torch.linalg.eig(X))"
      ],
      "metadata": {
        "id": "7Sgv_i1blZVi",
        "colab": {
          "base_uri": "https://localhost:8080/"
        },
        "outputId": "43b3ca8e-242c-4382-bd7d-5ffcc8db80c7"
      },
      "execution_count": null,
      "outputs": [
        {
          "output_type": "stream",
          "name": "stdout",
          "text": [
            "torch.return_types.linalg_eig(\n",
            "eigenvalues=tensor([1.6462+0.0000j, 0.1288+0.1651j, 0.1288-0.1651j, 0.2589+0.0000j]),\n",
            "eigenvectors=tensor([[-0.6678+0.0000j,  0.3281-0.2648j,  0.3281+0.2648j,  0.0752+0.0000j],\n",
            "        [-0.5335+0.0000j, -0.3693+0.1010j, -0.3693-0.1010j, -0.2098+0.0000j],\n",
            "        [-0.3711+0.0000j, -0.1076+0.1635j, -0.1076-0.1635j, -0.1003+0.0000j],\n",
            "        [-0.3628+0.0000j,  0.7984+0.0000j,  0.7984-0.0000j,  0.9697+0.0000j]]))\n"
          ]
        }
      ]
    },
    {
      "cell_type": "markdown",
      "source": [
        "## Neural Network 101\n",
        "\n",
        "Now, we will learn how to create our own neural networks using PyTorch. Our model is still pretty light since this is our first exposure to PyTorch. Next week, we will be learning how to train on models on GPU's to speed up training time!"
      ],
      "metadata": {
        "id": "uKWZ-8ximfvr"
      }
    },
    {
      "cell_type": "markdown",
      "source": [
        "Firstly, we will mount on Google Drive, so you can access your files from Google Drive like how you would access files from your local computer."
      ],
      "metadata": {
        "id": "MaORQBHJn3Xw"
      }
    },
    {
      "cell_type": "code",
      "source": [
        "from google.colab import drive\n",
        "drive.mount('/content/drive')"
      ],
      "metadata": {
        "id": "WTegbN2ZoXOT",
        "colab": {
          "base_uri": "https://localhost:8080/"
        },
        "outputId": "b6129f1a-4503-4a60-8c54-c04734414eb5"
      },
      "execution_count": null,
      "outputs": [
        {
          "output_type": "stream",
          "name": "stdout",
          "text": [
            "Mounted at /content/drive\n"
          ]
        }
      ]
    },
    {
      "cell_type": "markdown",
      "source": [
        "Some standard imports!"
      ],
      "metadata": {
        "id": "EaKrU7HzpUi1"
      }
    },
    {
      "cell_type": "code",
      "source": [
        "import torch\n",
        "import torch.nn as nn\n",
        "import torch.nn.functional as F\n",
        "\n",
        "import pandas as pd\n",
        "import numpy as np"
      ],
      "metadata": {
        "id": "m9P3-Ro-mHvR"
      },
      "execution_count": null,
      "outputs": []
    },
    {
      "cell_type": "markdown",
      "source": [
        "We will be working with a very popular deep learning dataset Fashion MNIST. Each data point is a 28x28 image of some type of clothes."
      ],
      "metadata": {
        "id": "UDrlQoGMrTIL"
      }
    },
    {
      "cell_type": "code",
      "source": [
        "file_path = \"/content/drive/MyDrive/\"      # ENTER YOUR OWN FILE PATH\n",
        "data = pd.read_csv(file_path + \"fashion_mnist_data.csv\", sep=',')\n",
        "data.head()"
      ],
      "metadata": {
        "id": "kghvXO08nqjc",
        "colab": {
          "base_uri": "https://localhost:8080/",
          "height": 300
        },
        "outputId": "de895ad3-6d79-4d00-8f6b-393a8fc486be"
      },
      "execution_count": null,
      "outputs": [
        {
          "output_type": "execute_result",
          "data": {
            "text/plain": [
              "   label  pixel1  pixel2  pixel3  pixel4  pixel5  pixel6  pixel7  pixel8  \\\n",
              "0      0       0       0       0       0       0       0       0       9   \n",
              "1      1       0       0       0       0       0       0       0       0   \n",
              "2      2       0       0       0       0       0       0      14      53   \n",
              "3      2       0       0       0       0       0       0       0       0   \n",
              "4      3       0       0       0       0       0       0       0       0   \n",
              "\n",
              "   pixel9  ...  pixel775  pixel776  pixel777  pixel778  pixel779  pixel780  \\\n",
              "0       8  ...       103        87        56         0         0         0   \n",
              "1       0  ...        34         0         0         0         0         0   \n",
              "2      99  ...         0         0         0         0        63        53   \n",
              "3       0  ...       137       126       140         0       133       224   \n",
              "4       0  ...         0         0         0         0         0         0   \n",
              "\n",
              "   pixel781  pixel782  pixel783  pixel784  \n",
              "0         0         0         0         0  \n",
              "1         0         0         0         0  \n",
              "2        31         0         0         0  \n",
              "3       222        56         0         0  \n",
              "4         0         0         0         0  \n",
              "\n",
              "[5 rows x 785 columns]"
            ],
            "text/html": [
              "\n",
              "  <div id=\"df-b4481055-0cb5-4930-a52f-1ed9f952898e\">\n",
              "    <div class=\"colab-df-container\">\n",
              "      <div>\n",
              "<style scoped>\n",
              "    .dataframe tbody tr th:only-of-type {\n",
              "        vertical-align: middle;\n",
              "    }\n",
              "\n",
              "    .dataframe tbody tr th {\n",
              "        vertical-align: top;\n",
              "    }\n",
              "\n",
              "    .dataframe thead th {\n",
              "        text-align: right;\n",
              "    }\n",
              "</style>\n",
              "<table border=\"1\" class=\"dataframe\">\n",
              "  <thead>\n",
              "    <tr style=\"text-align: right;\">\n",
              "      <th></th>\n",
              "      <th>label</th>\n",
              "      <th>pixel1</th>\n",
              "      <th>pixel2</th>\n",
              "      <th>pixel3</th>\n",
              "      <th>pixel4</th>\n",
              "      <th>pixel5</th>\n",
              "      <th>pixel6</th>\n",
              "      <th>pixel7</th>\n",
              "      <th>pixel8</th>\n",
              "      <th>pixel9</th>\n",
              "      <th>...</th>\n",
              "      <th>pixel775</th>\n",
              "      <th>pixel776</th>\n",
              "      <th>pixel777</th>\n",
              "      <th>pixel778</th>\n",
              "      <th>pixel779</th>\n",
              "      <th>pixel780</th>\n",
              "      <th>pixel781</th>\n",
              "      <th>pixel782</th>\n",
              "      <th>pixel783</th>\n",
              "      <th>pixel784</th>\n",
              "    </tr>\n",
              "  </thead>\n",
              "  <tbody>\n",
              "    <tr>\n",
              "      <th>0</th>\n",
              "      <td>0</td>\n",
              "      <td>0</td>\n",
              "      <td>0</td>\n",
              "      <td>0</td>\n",
              "      <td>0</td>\n",
              "      <td>0</td>\n",
              "      <td>0</td>\n",
              "      <td>0</td>\n",
              "      <td>9</td>\n",
              "      <td>8</td>\n",
              "      <td>...</td>\n",
              "      <td>103</td>\n",
              "      <td>87</td>\n",
              "      <td>56</td>\n",
              "      <td>0</td>\n",
              "      <td>0</td>\n",
              "      <td>0</td>\n",
              "      <td>0</td>\n",
              "      <td>0</td>\n",
              "      <td>0</td>\n",
              "      <td>0</td>\n",
              "    </tr>\n",
              "    <tr>\n",
              "      <th>1</th>\n",
              "      <td>1</td>\n",
              "      <td>0</td>\n",
              "      <td>0</td>\n",
              "      <td>0</td>\n",
              "      <td>0</td>\n",
              "      <td>0</td>\n",
              "      <td>0</td>\n",
              "      <td>0</td>\n",
              "      <td>0</td>\n",
              "      <td>0</td>\n",
              "      <td>...</td>\n",
              "      <td>34</td>\n",
              "      <td>0</td>\n",
              "      <td>0</td>\n",
              "      <td>0</td>\n",
              "      <td>0</td>\n",
              "      <td>0</td>\n",
              "      <td>0</td>\n",
              "      <td>0</td>\n",
              "      <td>0</td>\n",
              "      <td>0</td>\n",
              "    </tr>\n",
              "    <tr>\n",
              "      <th>2</th>\n",
              "      <td>2</td>\n",
              "      <td>0</td>\n",
              "      <td>0</td>\n",
              "      <td>0</td>\n",
              "      <td>0</td>\n",
              "      <td>0</td>\n",
              "      <td>0</td>\n",
              "      <td>14</td>\n",
              "      <td>53</td>\n",
              "      <td>99</td>\n",
              "      <td>...</td>\n",
              "      <td>0</td>\n",
              "      <td>0</td>\n",
              "      <td>0</td>\n",
              "      <td>0</td>\n",
              "      <td>63</td>\n",
              "      <td>53</td>\n",
              "      <td>31</td>\n",
              "      <td>0</td>\n",
              "      <td>0</td>\n",
              "      <td>0</td>\n",
              "    </tr>\n",
              "    <tr>\n",
              "      <th>3</th>\n",
              "      <td>2</td>\n",
              "      <td>0</td>\n",
              "      <td>0</td>\n",
              "      <td>0</td>\n",
              "      <td>0</td>\n",
              "      <td>0</td>\n",
              "      <td>0</td>\n",
              "      <td>0</td>\n",
              "      <td>0</td>\n",
              "      <td>0</td>\n",
              "      <td>...</td>\n",
              "      <td>137</td>\n",
              "      <td>126</td>\n",
              "      <td>140</td>\n",
              "      <td>0</td>\n",
              "      <td>133</td>\n",
              "      <td>224</td>\n",
              "      <td>222</td>\n",
              "      <td>56</td>\n",
              "      <td>0</td>\n",
              "      <td>0</td>\n",
              "    </tr>\n",
              "    <tr>\n",
              "      <th>4</th>\n",
              "      <td>3</td>\n",
              "      <td>0</td>\n",
              "      <td>0</td>\n",
              "      <td>0</td>\n",
              "      <td>0</td>\n",
              "      <td>0</td>\n",
              "      <td>0</td>\n",
              "      <td>0</td>\n",
              "      <td>0</td>\n",
              "      <td>0</td>\n",
              "      <td>...</td>\n",
              "      <td>0</td>\n",
              "      <td>0</td>\n",
              "      <td>0</td>\n",
              "      <td>0</td>\n",
              "      <td>0</td>\n",
              "      <td>0</td>\n",
              "      <td>0</td>\n",
              "      <td>0</td>\n",
              "      <td>0</td>\n",
              "      <td>0</td>\n",
              "    </tr>\n",
              "  </tbody>\n",
              "</table>\n",
              "<p>5 rows × 785 columns</p>\n",
              "</div>\n",
              "      <button class=\"colab-df-convert\" onclick=\"convertToInteractive('df-b4481055-0cb5-4930-a52f-1ed9f952898e')\"\n",
              "              title=\"Convert this dataframe to an interactive table.\"\n",
              "              style=\"display:none;\">\n",
              "        \n",
              "  <svg xmlns=\"http://www.w3.org/2000/svg\" height=\"24px\"viewBox=\"0 0 24 24\"\n",
              "       width=\"24px\">\n",
              "    <path d=\"M0 0h24v24H0V0z\" fill=\"none\"/>\n",
              "    <path d=\"M18.56 5.44l.94 2.06.94-2.06 2.06-.94-2.06-.94-.94-2.06-.94 2.06-2.06.94zm-11 1L8.5 8.5l.94-2.06 2.06-.94-2.06-.94L8.5 2.5l-.94 2.06-2.06.94zm10 10l.94 2.06.94-2.06 2.06-.94-2.06-.94-.94-2.06-.94 2.06-2.06.94z\"/><path d=\"M17.41 7.96l-1.37-1.37c-.4-.4-.92-.59-1.43-.59-.52 0-1.04.2-1.43.59L10.3 9.45l-7.72 7.72c-.78.78-.78 2.05 0 2.83L4 21.41c.39.39.9.59 1.41.59.51 0 1.02-.2 1.41-.59l7.78-7.78 2.81-2.81c.8-.78.8-2.07 0-2.86zM5.41 20L4 18.59l7.72-7.72 1.47 1.35L5.41 20z\"/>\n",
              "  </svg>\n",
              "      </button>\n",
              "      \n",
              "  <style>\n",
              "    .colab-df-container {\n",
              "      display:flex;\n",
              "      flex-wrap:wrap;\n",
              "      gap: 12px;\n",
              "    }\n",
              "\n",
              "    .colab-df-convert {\n",
              "      background-color: #E8F0FE;\n",
              "      border: none;\n",
              "      border-radius: 50%;\n",
              "      cursor: pointer;\n",
              "      display: none;\n",
              "      fill: #1967D2;\n",
              "      height: 32px;\n",
              "      padding: 0 0 0 0;\n",
              "      width: 32px;\n",
              "    }\n",
              "\n",
              "    .colab-df-convert:hover {\n",
              "      background-color: #E2EBFA;\n",
              "      box-shadow: 0px 1px 2px rgba(60, 64, 67, 0.3), 0px 1px 3px 1px rgba(60, 64, 67, 0.15);\n",
              "      fill: #174EA6;\n",
              "    }\n",
              "\n",
              "    [theme=dark] .colab-df-convert {\n",
              "      background-color: #3B4455;\n",
              "      fill: #D2E3FC;\n",
              "    }\n",
              "\n",
              "    [theme=dark] .colab-df-convert:hover {\n",
              "      background-color: #434B5C;\n",
              "      box-shadow: 0px 1px 3px 1px rgba(0, 0, 0, 0.15);\n",
              "      filter: drop-shadow(0px 1px 2px rgba(0, 0, 0, 0.3));\n",
              "      fill: #FFFFFF;\n",
              "    }\n",
              "  </style>\n",
              "\n",
              "      <script>\n",
              "        const buttonEl =\n",
              "          document.querySelector('#df-b4481055-0cb5-4930-a52f-1ed9f952898e button.colab-df-convert');\n",
              "        buttonEl.style.display =\n",
              "          google.colab.kernel.accessAllowed ? 'block' : 'none';\n",
              "\n",
              "        async function convertToInteractive(key) {\n",
              "          const element = document.querySelector('#df-b4481055-0cb5-4930-a52f-1ed9f952898e');\n",
              "          const dataTable =\n",
              "            await google.colab.kernel.invokeFunction('convertToInteractive',\n",
              "                                                     [key], {});\n",
              "          if (!dataTable) return;\n",
              "\n",
              "          const docLinkHtml = 'Like what you see? Visit the ' +\n",
              "            '<a target=\"_blank\" href=https://colab.research.google.com/notebooks/data_table.ipynb>data table notebook</a>'\n",
              "            + ' to learn more about interactive tables.';\n",
              "          element.innerHTML = '';\n",
              "          dataTable['output_type'] = 'display_data';\n",
              "          await google.colab.output.renderOutput(dataTable, element);\n",
              "          const docLink = document.createElement('div');\n",
              "          docLink.innerHTML = docLinkHtml;\n",
              "          element.appendChild(docLink);\n",
              "        }\n",
              "      </script>\n",
              "    </div>\n",
              "  </div>\n",
              "  "
            ]
          },
          "metadata": {},
          "execution_count": 3
        }
      ]
    },
    {
      "cell_type": "code",
      "source": [
        "print(data.shape)   # (N, D + 1) (one column is the label column)"
      ],
      "metadata": {
        "id": "2MzrHvzirEsc",
        "colab": {
          "base_uri": "https://localhost:8080/"
        },
        "outputId": "55448733-9718-4319-b6a6-4d7ed6c0559a"
      },
      "execution_count": null,
      "outputs": [
        {
          "output_type": "stream",
          "name": "stdout",
          "text": [
            "(8000, 785)\n"
          ]
        }
      ]
    },
    {
      "cell_type": "markdown",
      "source": [
        "In the following cell, transform the DataFrame data to 2 NumPy arrays X and y, where X is the data matrix with 784 pixels per row. y should be a NumPy vector of the labels. From the cell above, we see that there are 8,000 samples to work with. Each sample has 784 features, or pixels, where the first column, \"label\", is the label of that sample. The final shape of X should be `(8000, 784)` and y should be `(8000, )`."
      ],
      "metadata": {
        "id": "Hv49eFRJqvZ4"
      }
    },
    {
      "cell_type": "code",
      "source": [
        "### YOUR CODE HERE\n",
        "X = data.iloc[:, 1:].values\n",
        "X = torch.tensor(X)\n",
        "\n",
        "y = data.iloc[:, 0].values\n",
        "y = torch.tensor(y)\n",
        "\n",
        "# print the shapes of X and y to verify that they match the expected shapes\n",
        "print(X.shape)\n",
        "print(y.shape)"
      ],
      "metadata": {
        "id": "cg824aI6qehg",
        "colab": {
          "base_uri": "https://localhost:8080/"
        },
        "outputId": "705e7a9f-da8e-4cf9-a7e2-4051f840d14d"
      },
      "execution_count": null,
      "outputs": [
        {
          "output_type": "stream",
          "name": "stdout",
          "text": [
            "torch.Size([8000, 784])\n",
            "torch.Size([8000])\n"
          ]
        }
      ]
    },
    {
      "cell_type": "markdown",
      "source": [
        "Let's quickly visualize some samples. You should see some images of clothes and the correct labels if you implemented the above cell correctly."
      ],
      "metadata": {
        "id": "L8pXuVsesIks"
      }
    },
    {
      "cell_type": "code",
      "source": [
        "import matplotlib.pyplot as plt\n",
        "\n",
        "labels = [\"T-Shirt/Top\", \"Trouser\", \"Pullover\", \"Dress\", \"Coat\", \"Sandal\", \"Shirt\", \"Sneaker\", \"Bag\", \"Boot\"]\n",
        "\n",
        "def show_image_labels(img, label):\n",
        "    plt.imshow(img.reshape(28, 28))\n",
        "    plt.title(labels[label])\n",
        "    plt.show()\n",
        "\n",
        "for i in range(5):\n",
        "    show_image_labels(X[i], y[i])"
      ],
      "metadata": {
        "id": "kUakZ4dyq_yj",
        "colab": {
          "base_uri": "https://localhost:8080/",
          "height": 1000
        },
        "outputId": "6847428a-8aaf-4e81-8e42-d07f075301ef"
      },
      "execution_count": null,
      "outputs": [
        {
          "output_type": "display_data",
          "data": {
            "text/plain": [
              "<Figure size 432x288 with 1 Axes>"
            ],
            "image/png": "[encoded data removed]"
          },
          "metadata": {
            "needs_background": "light"
          }
        },
        {
          "output_type": "display_data",
          "data": {
            "text/plain": [
              "<Figure size 432x288 with 1 Axes>"
            ],
            "image/png": "[encoded data removed]"
          },
          "metadata": {
            "needs_background": "light"
          }
        },
        {
          "output_type": "display_data",
          "data": {
            "text/plain": [
              "<Figure size 432x288 with 1 Axes>"
            ],
            "image/png": "[encoded data removed]"
          },
          "metadata": {
            "needs_background": "light"
          }
        },
        {
          "output_type": "display_data",
          "data": {
            "text/plain": [
              "<Figure size 432x288 with 1 Axes>"
            ],
            "image/png": "[encoded data removed]"
          },
          "metadata": {
            "needs_background": "light"
          }
        },
        {
          "output_type": "display_data",
          "data": {
            "text/plain": [
              "<Figure size 432x288 with 1 Axes>"
            ],
            "image/png": "[encoded data removed]"
          },
          "metadata": {
            "needs_background": "light"
          }
        }
      ]
    },
    {
      "cell_type": "markdown",
      "source": [
        "Now, we will build our first neural network!"
      ],
      "metadata": {
        "id": "dTxzqTEYtkYZ"
      }
    },
    {
      "cell_type": "code",
      "source": [
        "class Sample_Network(nn.Module):\n",
        "    def __init__(self):\n",
        "        super().__init__()\n",
        "        # TODO\n",
        "        input_dim =  784    # what should be the input dimension? what are we feeding the network?\n",
        "        output_dim = 10    # what should be the output dimension? what do we want from the network after running model(), or also known as model.forward()?\n",
        "        self.input_layer = nn.Linear(input_dim, 126)\n",
        "        self.hidden_layer = nn.Linear(126, 256)\n",
        "        self.output_layer = nn.Linear(256, output_dim)\n",
        "\n",
        "    # self.forward is the main function that you will run your model with!\n",
        "    # model(X) is equivalent as model.forward(X).\n",
        "    # you will see how it's used in just a bit!\n",
        "    # nothing to implement here - an example of how you the forward method works\n",
        "    # as you can see, X is first passed into the input layer, then a non-linearity ReLU\n",
        "    # then, the hidden layer followed by a non-linearity ReLU\n",
        "    # in the end, the output_layer produces a logit matrix based on how many classes\n",
        "    # we want it to classify\n",
        "    def forward(self, X):\n",
        "        X = self.input_layer(X)\n",
        "        X = F.relu(X)\n",
        "        X = self.hidden_layer(X)\n",
        "        X = F.relu(X)\n",
        "        logits = self.output_layer(X)\n",
        "        return logits\n",
        "\n",
        "    # we will create our own function to help with prediction\n",
        "    # we will utilize F.softmax and torch.argmax!\n",
        "    def classify(self, X):\n",
        "        \"\"\"\n",
        "        Q:  create a function classify that will take in X data points and produce\n",
        "            the predicted classification of these points.\n",
        "\n",
        "        HINT: use torch.softmax() and torch.argmax()! you NEED them.\n",
        "\n",
        "        Inputs\n",
        "        - X: the torch.tensor matrix to be classified with shape (N, D)\n",
        "\n",
        "        Outputs\n",
        "        - labels: a torch.tensor with the shape (N, ), each item being X[i]'s \n",
        "                  classification prediction\n",
        "        \"\"\"\n",
        "        X = torch.tensor(X).type(torch.float32)     # enforce smooth-running with the model\n",
        "        logits = self(X)\n",
        "        probas = torch.softmax(logits, dim=1)  \n",
        "        labels = torch.argmax(probas, dim=1)\n",
        "        return labels.type(torch.long)"
      ],
      "metadata": {
        "id": "c-8aNVErtHXc"
      },
      "execution_count": null,
      "outputs": []
    },
    {
      "cell_type": "markdown",
      "source": [
        "Write code to transform X and y into Tensors. `X` needs to be of type `torch.float32` and `y` needs to be of type `torch.long`. Google how you can cast a tensor to some certain type with PyTorch."
      ],
      "metadata": {
        "id": "epYwFybOvIPw"
      }
    },
    {
      "cell_type": "code",
      "source": [
        "### YOUR CODE HERE\n",
        "X, y = X.to(torch.float32), y.to(torch.long)"
      ],
      "metadata": {
        "id": "XFZAMEgFvH2g"
      },
      "execution_count": null,
      "outputs": []
    },
    {
      "cell_type": "markdown",
      "source": [
        "Let's instantiate our model and see what the outputs look like! It should look like (2, 10) because we fed in 2 samples and we're classifying one of the 10 possible classes!"
      ],
      "metadata": {
        "id": "z8Vrj4RHv5Hn"
      }
    },
    {
      "cell_type": "code",
      "source": [
        "model = Sample_Network()\n",
        "out = model(X[:2])\n",
        "print(out)\n",
        "print(out.shape)"
      ],
      "metadata": {
        "id": "xzkJUASct-rA",
        "colab": {
          "base_uri": "https://localhost:8080/"
        },
        "outputId": "683522bf-7c60-44fa-b6ab-5ba244c2444d"
      },
      "execution_count": null,
      "outputs": [
        {
          "output_type": "stream",
          "name": "stdout",
          "text": [
            "tensor([[ -4.3553,  10.8706,  -6.4679,  -4.2372, -16.2028,   9.7061,  15.8032,\n",
            "         -27.0474,   4.5441,   3.4725],\n",
            "        [  3.2048,  -8.5327,  -2.6297,   8.0820, -20.5732,  17.5492,   2.9682,\n",
            "         -20.5287,   9.9219,  -2.2088]], grad_fn=<AddmmBackward0>)\n",
            "torch.Size([2, 10])\n"
          ]
        }
      ]
    },
    {
      "cell_type": "markdown",
      "source": [
        "If we apply softmax to the output, we get the probability distribution of each class!"
      ],
      "metadata": {
        "id": "hUl3IeKYwJTC"
      }
    },
    {
      "cell_type": "code",
      "source": [
        "preds = model.classify(X[:2])\n",
        "print(preds)    # the model thinks that the first 2 samples are these classes"
      ],
      "metadata": {
        "id": "CZcJ98WSwIbC",
        "colab": {
          "base_uri": "https://localhost:8080/"
        },
        "outputId": "b1442f6b-810a-4f29-8b17-c6e947e3e2dc"
      },
      "execution_count": null,
      "outputs": [
        {
          "output_type": "stream",
          "name": "stdout",
          "text": [
            "tensor([6, 5])\n"
          ]
        },
        {
          "output_type": "stream",
          "name": "stderr",
          "text": [
            "<ipython-input-7-127a37548734>:43: UserWarning: To copy construct from a tensor, it is recommended to use sourceTensor.clone().detach() or sourceTensor.clone().detach().requires_grad_(True), rather than torch.tensor(sourceTensor).\n",
            "  X = torch.tensor(X).type(torch.float32)     # enforce smooth-running with the model\n"
          ]
        }
      ]
    },
    {
      "cell_type": "code",
      "source": [
        "# let's see if the model is doing a good job\n",
        "show_image_labels(X[0], preds[0])       # this should be a T-shirt, not a shirt - they are two different classes\n",
        "show_image_labels(X[1], preds[1])"
      ],
      "metadata": {
        "id": "ZoRW9az6vEys",
        "colab": {
          "base_uri": "https://localhost:8080/",
          "height": 545
        },
        "outputId": "a97816ec-6094-4d57-b6fd-ae055c796f4e"
      },
      "execution_count": null,
      "outputs": [
        {
          "output_type": "display_data",
          "data": {
            "text/plain": [
              "<Figure size 432x288 with 1 Axes>"
            ],
            "image/png": "[encoded data removed]"
          },
          "metadata": {
            "needs_background": "light"
          }
        },
        {
          "output_type": "display_data",
          "data": {
            "text/plain": [
              "<Figure size 432x288 with 1 Axes>"
            ],
            "image/png": "[encoded data removed]"
          },
          "metadata": {
            "needs_background": "light"
          }
        }
      ]
    },
    {
      "cell_type": "markdown",
      "source": [
        "Technically, the first image is supposed to be a t-shirt, not a shirt, soooo the model got both wrong (if it somehow did it got lucky)... Why? Well, we haven't trained it yet! And that's our next section!"
      ],
      "metadata": {
        "id": "14PEE-Wpx6j5"
      }
    },
    {
      "cell_type": "markdown",
      "source": [
        "## Writing the Training Loop\n",
        "\n",
        "This is arguably one of the most important components of Deep Learning and PyTorch. We need to write our own training loop that will repeatedly train our model a number of epochs of times, based on our own specifications.\n",
        "\n",
        "A typical training loop will have the following structure:\n",
        "\n",
        "\n",
        "*   Take in the model and the data X_train, y_train, X_val, and y_val.\n",
        "*   Take in hyperparameters such as learning rate, batch size, optimizer, schedulers, etc.\n",
        "*   Iterate through the epochs\n",
        "*   Each epoch, iterate through the batches and keep track of the losses and the metrics of choice (accuracy in our case)."
      ],
      "metadata": {
        "id": "1nnMk8NIyGnX"
      }
    },
    {
      "cell_type": "code",
      "source": [
        "from sklearn.metrics import accuracy_score\n",
        "\n",
        "def train(model, X_train, y_train, X_val, y_val, epochs=15, batch_size=32, lr=1e-3):\n",
        "    \"\"\"\n",
        "    Q:  write the training loop following the schema shown above.\n",
        "\n",
        "    Inputs\n",
        "    - model: the model to be trained - a PyTorch nn.Module class object\n",
        "    - X_train, y_train, X_val, y_val: training and validation data\n",
        "    - epochs: num epochs, or the number of times we want to run through the entire training data\n",
        "    - batch_size: number of data points per batch\n",
        "    - lr: learning rate\n",
        "    - optimizer: optimizer used\n",
        "\n",
        "    Outputs\n",
        "    - losses: a list of losses\n",
        "    - accuracies: a list of validation accuracies\n",
        "    - train_accs: a list of training accuracies\n",
        "    \"\"\"\n",
        "\n",
        "    batches = len(X_train) // batch_size   # using batch_size, determine the number of batches needed\n",
        "\n",
        "    loss_fn = nn.CrossEntropyLoss()                             # read the write-up for an explanation on CrossEntropyLoss()\n",
        "    optimizer = torch.optim.Adam(model.parameters(), lr=lr)     # read the write-up for an explanation on Adam\n",
        "\n",
        "    losses = []\n",
        "    train_accs = []\n",
        "    accuracies = []\n",
        "\n",
        "    for epoch in range(epochs):\n",
        "        for i in range(batches):\n",
        "            X_batch = X_train[i*batch_size:(i+1)*batch_size]\n",
        "            y_batch = y_train[i*batch_size:(i+1)*batch_size]\n",
        "\n",
        "            logits = model(X_batch)\n",
        "\n",
        "            loss = loss_fn(logits, y_batch)\n",
        "\n",
        "            # these 3 functions will follow you whenever you train a model with PyTorch\n",
        "            optimizer.zero_grad()   # erases the gradients from the previous epoch (sets all gradients to 0)\n",
        "            loss.backward()         # calculates the gradients with respect to every single weight matrix in the model\n",
        "            optimizer.step()        # takes ONE learning step with the gradients just calculated\n",
        "\n",
        "        # feel free to use sklearn's accuracy_score function\n",
        "        # calculate the training accuracy\n",
        "        accuracy = accuracy_score(y_train, model(X_train).argmax(dim=1))\n",
        "        train_accs.append(accuracy)\n",
        "\n",
        "        # calculate the validation accuracy and append the loss of this epoch\n",
        "        val_acc = accuracy_score(y_val, model(X_val).argmax(dim=1))\n",
        "        accuracies.append(val_acc)\n",
        "        losses.append(loss.item())\n",
        "\n",
        "        # print epoch, loss, and current test accuracy\n",
        "        print(f\"Epoch {epoch}:\\tloss {loss} & accuracy {accuracy}\")\n",
        "    \n",
        "    return losses, accuracies, train_accs"
      ],
      "metadata": {
        "id": "dEQ3JOj_xWj5"
      },
      "execution_count": null,
      "outputs": []
    },
    {
      "cell_type": "markdown",
      "source": [
        "If you implemented the above code `Sample_Network` and `train()` correctly, you should see close to a 0.79-0.80 accuracy."
      ],
      "metadata": {
        "id": "Y6YVQTtqoiWH"
      }
    },
    {
      "cell_type": "code",
      "source": [
        "model = Sample_Network()\n",
        "losses, accuracies, train_accs = train(model, X[:7000], y[:7000], X[7000:], y[7000:], epochs=5)"
      ],
      "metadata": {
        "id": "YXz0CsoqzFlZ",
        "colab": {
          "base_uri": "https://localhost:8080/"
        },
        "outputId": "d930f82b-68b1-4c42-83b5-e75f66313975"
      },
      "execution_count": null,
      "outputs": [
        {
          "output_type": "stream",
          "name": "stdout",
          "text": [
            "Epoch 0:\tloss 1.2680299282073975 & accuracy 0.7371428571428571\n",
            "Epoch 1:\tloss 0.8095451593399048 & accuracy 0.7784285714285715\n",
            "Epoch 2:\tloss 0.9857142567634583 & accuracy 0.7552857142857143\n",
            "Epoch 3:\tloss 0.6301232576370239 & accuracy 0.7774285714285715\n",
            "Epoch 4:\tloss 0.6965112090110779 & accuracy 0.8011428571428572\n"
          ]
        }
      ]
    },
    {
      "cell_type": "code",
      "source": [
        "# Let's see how much the model has learned\n",
        "preds = model.classify(X[:5])\n",
        "for i in range(5):\n",
        "    show_image_labels(X[i], preds[i])"
      ],
      "metadata": {
        "id": "PUK5BZ8d1jSy",
        "colab": {
          "base_uri": "https://localhost:8080/",
          "height": 1000
        },
        "outputId": "40c61ea7-1401-4118-d9e7-a9731906c071"
      },
      "execution_count": null,
      "outputs": [
        {
          "output_type": "stream",
          "name": "stderr",
          "text": [
            "<ipython-input-7-127a37548734>:43: UserWarning: To copy construct from a tensor, it is recommended to use sourceTensor.clone().detach() or sourceTensor.clone().detach().requires_grad_(True), rather than torch.tensor(sourceTensor).\n",
            "  X = torch.tensor(X).type(torch.float32)     # enforce smooth-running with the model\n"
          ]
        },
        {
          "output_type": "display_data",
          "data": {
            "text/plain": [
              "<Figure size 432x288 with 1 Axes>"
            ],
            "image/png": "[encoded data removed]"
          },
          "metadata": {
            "needs_background": "light"
          }
        },
        {
          "output_type": "display_data",
          "data": {
            "text/plain": [
              "<Figure size 432x288 with 1 Axes>"
            ],
            "image/png": "[encoded data removed]"
          },
          "metadata": {
            "needs_background": "light"
          }
        },
        {
          "output_type": "display_data",
          "data": {
            "text/plain": [
              "<Figure size 432x288 with 1 Axes>"
            ],
            "image/png": "[encoded data removed]"
          },
          "metadata": {
            "needs_background": "light"
          }
        },
        {
          "output_type": "display_data",
          "data": {
            "text/plain": [
              "<Figure size 432x288 with 1 Axes>"
            ],
            "image/png": "[encoded data removed]"
          },
          "metadata": {
            "needs_background": "light"
          }
        },
        {
          "output_type": "display_data",
          "data": {
            "text/plain": [
              "<Figure size 432x288 with 1 Axes>"
            ],
            "image/png": "[encoded data removed]"
          },
          "metadata": {
            "needs_background": "light"
          }
        }
      ]
    },
    {
      "cell_type": "markdown",
      "source": [
        "Compared to what we had earlier, the model clearly learned *something*. It is currently able to differentiate among different images of clothes with an 80% accuracy!"
      ],
      "metadata": {
        "id": "RbHKFFHj3k4s"
      }
    },
    {
      "cell_type": "markdown",
      "source": [
        "## Build Your Own Model\n",
        "\n",
        "Now, fill in the following class and make your own neural network model that can classify the clothes with a validation accuracy of 90%!\n",
        "\n",
        "Using the previous `Sample_Network` as an example, please implement `My_Network`, a class that is able to produce `num_layers` of hidden layers (NOT including the input and the output layers) where each hidden layer has `hidden_size` units. Additionally, please **add one or more extra features** to boost your performance. Some inspirations: adding Dropout() layers, Batchnorm() layers, normalize inputs, learning rate schedulers, etc.\n",
        "\n",
        "When you're done with this section, click on the folder icon to your left (for those using Google Colab), and you should be able to download `my_model.pt` and `predictions.npy` - the 2 files you will submit to Gradescope."
      ],
      "metadata": {
        "id": "xfvSgdCR38_s"
      }
    },
    {
      "cell_type": "code",
      "source": [
        "class My_Network(nn.Module):\n",
        "    def __init__(self, num_layers, hidden_size):\n",
        "        super().__init__()\n",
        "        self.input_layer = nn.Linear(784, hidden_size)\n",
        "        self.hidden_layers = nn.ModuleList([nn.Linear(hidden_size, hidden_size) for i in range(num_layers)])\n",
        "        self.output_layer = nn.Linear(hidden_size, 10)\n",
        "        self.batch_norms = nn.ModuleList([nn.BatchNorm1d(hidden_size) for i in range(num_layers)])\n",
        "        \n",
        "    def forward(self, X):\n",
        "        X = self.input_layer(X)\n",
        "        X = nn.functional.relu(X)\n",
        "        for layer, batch_norm in zip(self.hidden_layers, self.batch_norms):\n",
        "            X = layer(X)\n",
        "            X = batch_norm(X)\n",
        "            X = nn.functional.relu(X)\n",
        "        logits = self.output_layer(X)\n",
        "        return logits\n",
        "\n",
        "    def classify(self, X):\n",
        "        X = torch.tensor(X).type(torch.float32)\n",
        "        logits = self(X)\n",
        "        probas = nn.functional.softmax(logits, dim=1)  \n",
        "        labels = torch.argmax(probas, dim=1)\n",
        "        return labels.type(torch.long)"
      ],
      "metadata": {
        "id": "Jm0xDDKP3h4S"
      },
      "execution_count": 116,
      "outputs": []
    },
    {
      "cell_type": "code",
      "source": [
        "my_model = My_Network(num_layers=3, hidden_size=256)\n",
        "losses, accuracies, train_accs = train(my_model, X[:7000], y[:7000], X[7000:], y[7000:], epochs=5)"
      ],
      "metadata": {
        "id": "PAc_H2sn4X3e",
        "colab": {
          "base_uri": "https://localhost:8080/"
        },
        "outputId": "2ae89873-e1c0-49e8-92c6-2c5a7e8acece"
      },
      "execution_count": 119,
      "outputs": [
        {
          "output_type": "stream",
          "name": "stdout",
          "text": [
            "Epoch 0:\tloss 0.9869288802146912 & accuracy 0.816\n",
            "Epoch 1:\tloss 0.8879987597465515 & accuracy 0.8494285714285714\n",
            "Epoch 2:\tloss 0.7810095548629761 & accuracy 0.8565714285714285\n",
            "Epoch 3:\tloss 0.7317531704902649 & accuracy 0.8647142857142858\n",
            "Epoch 4:\tloss 0.615288496017456 & accuracy 0.871\n"
          ]
        }
      ]
    },
    {
      "cell_type": "code",
      "source": [
        "torch.save(my_model.state_dict(), '/content/drive/MyDrive/' + \"my_model.pt\")       # save your model - do NOT change the name of \n",
        "                                                                   # the model or else the autograder won't recognize it!"
      ],
      "metadata": {
        "id": "N63tBxAK4guN"
      },
      "execution_count": 120,
      "outputs": []
    },
    {
      "cell_type": "code",
      "source": [
        "def get_test_classifications(model, file_path):\n",
        "    test_df = pd.read_csv(file_path, sep=',')\n",
        "    X = test_df.values\n",
        "    X = torch.tensor(X).type(torch.float32)\n",
        "    out = model.classify(X)\n",
        "    np.save(\"predictions.npy\", out)\n",
        "    print(\"predictions.npy saved!\")\n",
        "\n",
        "get_test_classifications(my_model, \"/content/drive/MyDrive/fashion_mnist_test.csv\")"
      ],
      "metadata": {
        "colab": {
          "base_uri": "https://localhost:8080/"
        },
        "id": "ecOZy7xdgcfs",
        "outputId": "f9b37c35-0a36-41b4-f6f3-d963584d70cf"
      },
      "execution_count": 121,
      "outputs": [
        {
          "output_type": "stream",
          "name": "stdout",
          "text": [
            "predictions.npy saved!\n"
          ]
        },
        {
          "output_type": "stream",
          "name": "stderr",
          "text": [
            "<ipython-input-116-12dcca0718a0>:20: UserWarning: To copy construct from a tensor, it is recommended to use sourceTensor.clone().detach() or sourceTensor.clone().detach().requires_grad_(True), rather than torch.tensor(sourceTensor).\n",
            "  X = torch.tensor(X).type(torch.float32)\n"
          ]
        }
      ]
    },
    {
      "cell_type": "markdown",
      "source": [
        "Graph out your training vs. validation accuracy. These values should be available after running your training loop."
      ],
      "metadata": {
        "id": "bdJEvqitkI3b"
      }
    },
    {
      "cell_type": "code",
      "source": [
        "def graph(accuracies, training_accs):\n",
        "    \"\"\"\n",
        "    Q:  graph out the accuracies and training accuracies.\n",
        "        make sure you label which curve is the validation/training accuracy.\n",
        "        labels and titles are required.\n",
        "\n",
        "    Inputs\n",
        "    - accuracies: list of floats with length epochs\n",
        "    - training_accs: list of floats with length epochs\n",
        "\n",
        "    Outputs\n",
        "    - None\n",
        "    \"\"\"\n",
        "    epochs = len(accuracies)\n",
        "    plt.plot(range(epochs), accuracies, label='Validation Accuracy')\n",
        "    plt.plot(range(epochs), training_accs, label='Training Accuracy')\n",
        "    plt.xlabel('Epoch')\n",
        "    plt.ylabel('Accuracy')\n",
        "    plt.title('Accuracy vs. Epoch')\n",
        "    plt.legend()\n",
        "    plt.show()\n",
        "\n",
        "graph(accuracies, train_accs)"
      ],
      "metadata": {
        "id": "LlA4P5WKkShZ",
        "colab": {
          "base_uri": "https://localhost:8080/",
          "height": 295
        },
        "outputId": "46aac67e-4a1a-4dd8-ea99-03d8b6e589e2"
      },
      "execution_count": 122,
      "outputs": [
        {
          "output_type": "display_data",
          "data": {
            "text/plain": [
              "<Figure size 432x288 with 1 Axes>"
            ],
            "image/png": "[encoded data removed]"
          },
          "metadata": {
            "needs_background": "light"
          }
        }
      ]
    },
    {
      "cell_type": "markdown",
      "source": [
        "## Short report\n",
        "\n",
        "\n",
        "1.   What extra feature did you end up implementing? Why? Did it improve model performance?\n",
        "2.   What did you observe after plotting the training and validation accuracy? Were there any overfitting or underfitting?\n",
        "\n",
        "\n",
        "Your response:\n",
        "\n",
        "\n",
        "\n",
        "1.   I used the BatchNorm1d() function to incorporate batch normalization into my model. Batch normalization reduces the internal covariate shift by normalizing the inputs in each neural network layer. It also helps with reducing overfitting and increasing accuracy. It did help the model performance. Accuracy went up from about 0.73-0.80 to about 0.82-0.87. \n",
        "2.   My training and validation accuracy plot clearly showed that there is overfitting. We can see this because there is high training accuracy but low validation accuracy. The larger the gap between the training and validation accuracy, the more likely the model is overfitting. Since there is quite a big gap between the two, we can confidently say that the model is overfitting.\n",
        "\n",
        "\n"
      ],
      "metadata": {
        "id": "GSYN_7gOksTt"
      }
    },
    {
      "cell_type": "markdown",
      "source": [
        "## Conclusion\n",
        "\n",
        "We have explored the very fundamentals of PyTorch in this homework, and the tools we have currently worked with is only the tip of the iceberg! In our next homework, we will do some heavy convolutional neural networks and learn how we can send our model to the GPU for a dramatically faster training time."
      ],
      "metadata": {
        "id": "m45By_XzlKjl"
      }
    }
  ]
}